{
 "cells": [
  {
   "cell_type": "code",
   "execution_count": 1,
   "id": "7d957f0d-d2d2-4fe5-b3d6-31830bef5e27",
   "metadata": {},
   "outputs": [
    {
     "name": "stdout",
     "output_type": "stream",
     "text": [
      "Defaulting to user installation because normal site-packages is not writeable\n",
      "Requirement already satisfied: selfies in /home/jupyter-sanjar/.local/lib/python3.9/site-packages (2.1.0)\n"
     ]
    }
   ],
   "source": [
    "!pip install -U selfies\n",
    "\n",
    "import selfies as sf"
   ]
  },
  {
   "cell_type": "code",
   "execution_count": 2,
   "id": "99115eb8-95f6-49d6-baa0-fffb59915074",
   "metadata": {},
   "outputs": [
    {
     "name": "stdout",
     "output_type": "stream",
     "text": [
      "Defaulting to user installation because normal site-packages is not writeable\n",
      "Requirement already satisfied: joblib in /home/jupyter-sanjar/.local/lib/python3.9/site-packages (1.1.0)\n"
     ]
    }
   ],
   "source": [
    "!pip install -U joblib\n",
    "\n",
    "from joblib import Parallel, delayed"
   ]
  },
  {
   "cell_type": "code",
   "execution_count": 3,
   "id": "a768ed15-1e8a-4788-aabe-b9e6699bc434",
   "metadata": {},
   "outputs": [
    {
     "data": {
      "text/plain": [
       "['CN(c1ccccc1)c1ccccc1C(=O)NCC1(O)CCOCC1',\n",
       " 'CC[NH+](CC)C1CCC([NH2+]C2CC2)(C(=O)[O-])C1',\n",
       " 'COCC(CNC(=O)c1ccc2c(c1)NC(=O)C2)OC',\n",
       " 'OCCn1cc(CNc2cccc3c2CCCC3)nn1',\n",
       " 'CCCCCCc1ccc(C#Cc2ccc(C#CC3=CC=C(CCC)CC3)c(C3CCCCC3)c2)c(F)c1',\n",
       " 'O=C(NCc1ccc(F)cc1)N1CC=C(c2c[nH]c3ccccc23)CC1',\n",
       " 'Nc1nc2ccc(F)c(F)c2n1Cc1ccccc1Br',\n",
       " 'COc1cccc(c2cccc(F)c2C(=O)[O-])c1',\n",
       " 'COc1ccc(CC(=O)Nc2c(C#N)c(C)c(C)n2Cc2ccccc2)cc1',\n",
       " 'N#Cc1ccccc1NC(=O)CCSc1nnc(C[NH+]2CCCC2)n1Cc1ccccc1']"
      ]
     },
     "execution_count": 3,
     "metadata": {},
     "output_type": "execute_result"
    }
   ],
   "source": [
    "with open('pubchem-10m.txt') as f:\n",
    "    smiles_strings = list(map(lambda s: s.rstrip('\\n'), f.readlines()))\n",
    "smiles_strings[:10]"
   ]
  },
  {
   "cell_type": "code",
   "execution_count": 4,
   "id": "0d8590f6-91ba-419d-a424-51bf482a4500",
   "metadata": {},
   "outputs": [],
   "source": [
    "from functools import partial\n",
    "\n",
    "soft_encoder = partial(sf.encoder, strict=False)\n",
    "selfies_strings = Parallel(n_jobs=-1)(delayed(soft_encoder)(string)\n",
    "                                      for string in smiles_strings)"
   ]
  },
  {
   "cell_type": "code",
   "execution_count": 7,
   "id": "ce2c9dd8-994a-4804-a8ce-1f167c91b1fb",
   "metadata": {},
   "outputs": [],
   "source": [
    "with open('pubchem-10m-soft.sf', 'w') as f:\n",
    "    f.write('\\n'.join(selfies_strings))"
   ]
  },
  {
   "cell_type": "code",
   "execution_count": 4,
   "id": "03656165-480f-4a9e-b3c9-57cd4feb8aef",
   "metadata": {},
   "outputs": [
    {
     "name": "stdout",
     "output_type": "stream",
     "text": [
      "CPU times: user 2min 7s, sys: 6.32 s, total: 2min 14s\n",
      "Wall time: 2min 8s\n"
     ]
    }
   ],
   "source": [
    "%%time\n",
    "\n",
    "strict_selfies_strings = []\n",
    "\n",
    "def encode_strict(smiles_string):\n",
    "    try:\n",
    "        selfies_string = sf.encoder(smiles_string)\n",
    "        strict_selfies_strings.append(selfies_string)\n",
    "        return True\n",
    "    except sf.exceptions.EncoderError:\n",
    "        return False\n",
    "\n",
    "encode_mask = Parallel(n_jobs=-1, require='sharedmem')(\n",
    "    delayed(encode_strict)(string) for string in smiles_strings[:100_000])\n",
    "\n",
    "assert sum(encode_mask) == len(strict_selfies_strings)"
   ]
  },
  {
   "cell_type": "code",
   "execution_count": 5,
   "id": "2fe70add-00a0-4fff-b721-9e3b933e1b98",
   "metadata": {},
   "outputs": [
    {
     "data": {
      "text/plain": [
       "99993"
      ]
     },
     "execution_count": 5,
     "metadata": {},
     "output_type": "execute_result"
    }
   ],
   "source": [
    "len(strict_selfies_strings)"
   ]
  }
 ],
 "metadata": {
  "kernelspec": {
   "display_name": "Python 3 (ipykernel)",
   "language": "python",
   "name": "python3"
  },
  "language_info": {
   "codemirror_mode": {
    "name": "ipython",
    "version": 3
   },
   "file_extension": ".py",
   "mimetype": "text/x-python",
   "name": "python",
   "nbconvert_exporter": "python",
   "pygments_lexer": "ipython3",
   "version": "3.9.9"
  }
 },
 "nbformat": 4,
 "nbformat_minor": 5
}
